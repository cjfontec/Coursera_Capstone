{
 "cells": [
  {
   "cell_type": "markdown",
   "metadata": {
    "jupyter": {
     "outputs_hidden": false
    }
   },
   "source": [
    "## 1. Introduction/Business Problem"
   ]
  },
  {
   "cell_type": "markdown",
   "metadata": {
    "jupyter": {
     "outputs_hidden": false
    }
   },
   "source": [
    "If you want to start a new business, the more difficult question after selecting what you want to sell or offer, is where to put it. Failing in the location will mean a failure in all the project and a loss of money. Luckly, there are different factors that can help one determine where is a good option to stablish it. Three of the main are: income, population and what other buisness already exist nerby. The goal is to find a place where people have money to spend, where there is a lot of people living nearby, and where there is not already a store similar to the one you want. In this work, we want to answer the following question: what kind of buisness is a good idea to start, and where is the best place to stablish it in Santiago, chile?"
   ]
  },
  {
   "cell_type": "markdown",
   "metadata": {
    "jupyter": {
     "outputs_hidden": false
    }
   },
   "source": [
    "## 2.- Data"
   ]
  },
  {
   "cell_type": "markdown",
   "metadata": {
    "jupyter": {
     "outputs_hidden": false
    }
   },
   "source": [
    "In order to decide the type of business and the better location for it, we will use the following datasets:\n",
    "* poverty index: as a proxy to the income of the sector\n",
    "* population\n",
    "* Foursquare data of venues\n",
    "\n",
    "We will split the region of Santiago, Chile, in its 'Comunas' or sectors. First, using wikipedia data, we will plot both the poverty index and population, from which we will search for the best combination of the two. \n",
    "Then, we will use foursquare data to see what kind of business are the more common each sector, assuming this imply a good oportunity (already taken by someone else).\n",
    "After we select a business, we will chose one of the best sectors that does not have that kind of business as the most common.\n",
    "\n",
    "In summary: after looking for the best sectors, we look at the best five. from them, we check what are the most common buisness. As an example, assume that sushi place appears in the top five of three of the best sectors. then, a good idea would be to start a similar business in one of the other two."
   ]
  },
  {
   "cell_type": "code",
   "execution_count": null,
   "metadata": {},
   "outputs": [],
   "source": []
  }
 ],
 "metadata": {
  "kernelspec": {
   "display_name": "Python 3",
   "language": "python",
   "name": "python3"
  },
  "language_info": {
   "codemirror_mode": {
    "name": "ipython",
    "version": 3
   },
   "file_extension": ".py",
   "mimetype": "text/x-python",
   "name": "python",
   "nbconvert_exporter": "python",
   "pygments_lexer": "ipython3",
   "version": "3.8.5"
  },
  "widgets": {
   "state": {},
   "version": "1.1.2"
  }
 },
 "nbformat": 4,
 "nbformat_minor": 4
}
